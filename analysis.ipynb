{
 "cells": [
  {
   "cell_type": "markdown",
   "id": "ab15fd6d",
   "metadata": {},
   "source": [
    "# HackerNews Score Distribution Analysis\n",
    "\n",
    "This notebook analyzes the distribution of HackerNews post scores using data from `summary-scores.csv`."
   ]
  },
  {
   "cell_type": "markdown",
   "id": "ff1941aa",
   "metadata": {},
   "source": [
    "## Import Required Libraries\n",
    "\n",
    "Import pandas for data manipulation and matplotlib.pyplot for visualization."
   ]
  },
  {
   "cell_type": "code",
   "execution_count": null,
   "id": "38bcbdf2",
   "metadata": {},
   "outputs": [],
   "source": [
    "import pandas as pd\n",
    "import matplotlib.pyplot as plt\n",
    "import numpy as np"
   ]
  },
  {
   "cell_type": "markdown",
   "id": "1c6a22e6",
   "metadata": {},
   "source": [
    "## Load the Dataset\n",
    "\n",
    "Use pandas to load 'summary-scores.csv' into a DataFrame and inspect the first few rows."
   ]
  },
  {
   "cell_type": "code",
   "execution_count": null,
   "id": "3900c45e",
   "metadata": {},
   "outputs": [],
   "source": [
    "# Load the summary-scores.csv file\n",
    "df = pd.read_csv('analysis/summary-scores.csv')\n",
    "\n",
    "# Display basic information about the dataset\n",
    "print(\"Dataset shape:\", df.shape)\n",
    "print(\"\\nFirst 10 rows:\")\n",
    "print(df.head(10))\n",
    "\n",
    "print(\"\\nDataset info:\")\n",
    "print(df.info())\n",
    "\n",
    "print(\"\\nBasic statistics:\")\n",
    "print(df.describe())"
   ]
  },
  {
   "cell_type": "markdown",
   "id": "f66c725d",
   "metadata": {},
   "source": [
    "## Visualize Data with a Histogram\n",
    "\n",
    "Use Matplotlib to create a histogram of the scores column from the loaded dataset."
   ]
  },
  {
   "cell_type": "code",
   "execution_count": null,
   "id": "50f6fbf7",
   "metadata": {},
   "outputs": [],
   "source": [
    "# Create a histogram of scores weighted by count\n",
    "# Since we have aggregated data (score, count), we need to expand or weight the histogram\n",
    "\n",
    "# Create arrays for plotting - repeat each score by its count\n",
    "scores_expanded = []\n",
    "for _, row in df.iterrows():\n",
    "    scores_expanded.extend([row['score']] * row['count'])\n",
    "\n",
    "# Convert to numpy array for better performance\n",
    "scores_expanded = np.array(scores_expanded)\n",
    "\n",
    "# Create the histogram\n",
    "plt.figure(figsize=(12, 8))\n",
    "plt.hist(scores_expanded, bins=50, alpha=0.7, color='skyblue', edgecolor='black')\n",
    "plt.xlabel('Score')\n",
    "plt.ylabel('Frequency')\n",
    "plt.title('Distribution of HackerNews Post Scores')\n",
    "plt.grid(True, alpha=0.3)\n",
    "plt.show()\n",
    "\n",
    "print(f\"Total number of posts: {len(scores_expanded):,}\")\n",
    "print(f\"Score range: {scores_expanded.min()} to {scores_expanded.max()}\")\n",
    "print(f\"Mean score: {scores_expanded.mean():.2f}\")\n",
    "print(f\"Median score: {np.median(scores_expanded):.2f}\")"
   ]
  },
  {
   "cell_type": "code",
   "execution_count": null,
   "id": "c3e797ba",
   "metadata": {},
   "outputs": [],
   "source": [
    "# Alternative visualization: Log scale for better visibility of distribution\n",
    "plt.figure(figsize=(12, 8))\n",
    "plt.hist(scores_expanded, bins=100, alpha=0.7, color='lightcoral', edgecolor='black')\n",
    "plt.xlabel('Score')\n",
    "plt.ylabel('Frequency (Log Scale)')\n",
    "plt.yscale('log')\n",
    "plt.title('Distribution of HackerNews Post Scores (Log Scale)')\n",
    "plt.grid(True, alpha=0.3)\n",
    "plt.show()\n",
    "\n",
    "# Show distribution for scores up to 100 for better detail\n",
    "scores_filtered = scores_expanded[scores_expanded <= 100]\n",
    "plt.figure(figsize=(12, 8))\n",
    "plt.hist(scores_filtered, bins=50, alpha=0.7, color='lightgreen', edgecolor='black')\n",
    "plt.xlabel('Score')\n",
    "plt.ylabel('Frequency')\n",
    "plt.title('Distribution of HackerNews Post Scores (Scores ≤ 100)')\n",
    "plt.grid(True, alpha=0.3)\n",
    "plt.show()\n",
    "\n",
    "print(f\"Posts with score ≤ 100: {len(scores_filtered):,} ({len(scores_filtered)/len(scores_expanded)*100:.1f}%)\")"
   ]
  }
 ],
 "metadata": {
  "language_info": {
   "name": "python"
  }
 },
 "nbformat": 4,
 "nbformat_minor": 5
}
