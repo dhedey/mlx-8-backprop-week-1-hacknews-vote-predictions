{
 "cells": [
  {
   "metadata": {},
   "cell_type": "markdown",
   "source": "## Model\n",
   "id": "46c313da051ff945"
  },
  {
   "metadata": {
    "ExecuteTime": {
     "end_time": "2025-06-10T13:17:53.311105Z",
     "start_time": "2025-06-10T13:17:50.614932Z"
    }
   },
   "cell_type": "code",
   "source": [
    "import torch\n",
    "import pandas as pd\n",
    "import torch.nn as nn\n",
    "import torch.nn.functional as F\n",
    "import transformers"
   ],
   "id": "cf0fbfa576bee531",
   "outputs": [],
   "execution_count": 10
  },
  {
   "metadata": {},
   "cell_type": "markdown",
   "source": "## Naive Tokenizer",
   "id": "cee7023554c33f2d"
  },
  {
   "metadata": {
    "ExecuteTime": {
     "end_time": "2025-06-10T13:26:17.456574Z",
     "start_time": "2025-06-10T13:26:13.907566Z"
    }
   },
   "cell_type": "code",
   "source": [
    "# Generate word counts (OPTIONAL)\n",
    "all_text = []\n",
    "all_words = [w for w in open(\"text8.txt\").read().split(\" \") if len(w) > 0]\n",
    "\n",
    "word_counts = {}\n",
    "for word in all_words:\n",
    "    if word in word_counts:\n",
    "        word_counts[word] += 1\n",
    "    else:\n",
    "        word_counts[word] = 1\n",
    "\n",
    "word_counts_df = pd.DataFrame(\n",
    "    {\n",
    "        \"word\": word_counts.keys(),\n",
    "        \"count\": word_counts.values(),\n",
    "    }\n",
    ")\n",
    "word_counts_df.sort_values(\"count\", ascending=False, inplace=True)\n",
    "\n",
    "word_counts_df.to_csv(\"word_counts.csv\", index=False)\n"
   ],
   "id": "3b187f3b0237c0e7",
   "outputs": [],
   "execution_count": 14
  },
  {
   "metadata": {
    "ExecuteTime": {
     "end_time": "2025-06-10T13:45:42.213709Z",
     "start_time": "2025-06-10T13:45:42.121855Z"
    }
   },
   "cell_type": "code",
   "source": [
    "# Generate vocab (OPTIONAL)\n",
    "word_counts_df = pd.read_csv(\"word_counts.csv\")\n",
    "\n",
    "TOP_WORDS = 30000\n",
    "UNKNOWN_TOKEN = \"[UNK]\"\n",
    "\n",
    "other_words = word_counts_df.iloc[:TOP_WORDS]\n",
    "unknown_count = other_words[\"count\"].sum()\n",
    "\n",
    "vocab = pd.concat([\n",
    "    word_counts_df.head(TOP_WORDS),\n",
    "    pd.DataFrame([\n",
    "        {\n",
    "            \"word\": UNKNOWN_TOKEN,\n",
    "            \"count\": unknown_count,\n",
    "        }\n",
    "    ])\n",
    "])\n",
    "\n",
    "vocab[\"token_index\"] = range(len(vocab))\n",
    "vocab.set_index(\"word\", inplace=True)\n",
    "\n",
    "print(vocab.tail(5))\n",
    "vocab.to_csv(\"vocab.csv\")\n",
    "\n",
    "def word_to_token_index(word):\n",
    "    if word in vocab:\n",
    "        return vocab.loc[word][\"token_index\"]\n",
    "    else:\n",
    "        return UNKNOWN_INDEX\n"
   ],
   "id": "f319b7c91077a0e9",
   "outputs": [
    {
     "name": "stdout",
     "output_type": "stream",
     "text": [
      "               count  token_index\n",
      "word                             \n",
      "prosthetic        22        29996\n",
      "sedative          22        29997\n",
      "mnemonics         22        29998\n",
      "lise              22        29999\n",
      "[UNK]       16315126        30000\n"
     ]
    }
   ],
   "execution_count": 33
  },
  {
   "metadata": {
    "ExecuteTime": {
     "end_time": "2025-06-10T13:48:28.282135Z",
     "start_time": "2025-06-10T13:48:28.262148Z"
    }
   },
   "cell_type": "code",
   "source": [
    "# Load vocabulary\n",
    "vocab = pd.read_csv(\"vocab.csv\")\n",
    "vocab.set_index(\"word\", inplace=True)\n",
    "UNKNOWN_TOKEN = \"[UNK]\"\n",
    "UNKNOWN_INDEX = vocab.loc[UNKNOWN_TOKEN, \"token_index\"]\n",
    "\n",
    "def word_to_token_index(word):\n",
    "    if word in vocab.index:\n",
    "        return vocab.loc[word][\"token_index\"]\n",
    "    else:\n",
    "        return UNKNOWN_INDEX\n",
    "\n",
    "\n",
    "print(\"Hello world is: {} {}\".format(word_to_token_index(\"hello\"), word_to_token_index(\"world\")))"
   ],
   "id": "93d988651a3b79c6",
   "outputs": [
    {
     "name": "stdout",
     "output_type": "stream",
     "text": [
      "Hello world is: 6425 70\n"
     ]
    }
   ],
   "execution_count": 40
  }
 ],
 "metadata": {
  "kernelspec": {
   "display_name": "Python 3",
   "language": "python",
   "name": "python3"
  },
  "language_info": {
   "codemirror_mode": {
    "name": "ipython",
    "version": 2
   },
   "file_extension": ".py",
   "mimetype": "text/x-python",
   "name": "python",
   "nbconvert_exporter": "python",
   "pygments_lexer": "ipython2",
   "version": "2.7.6"
  }
 },
 "nbformat": 4,
 "nbformat_minor": 5
}
