{
 "cells": [
  {
   "metadata": {},
   "cell_type": "markdown",
   "source": "## Model\n",
   "id": "46c313da051ff945"
  },
  {
   "metadata": {
    "ExecuteTime": {
     "end_time": "2025-06-10T13:17:53.311105Z",
     "start_time": "2025-06-10T13:17:50.614932Z"
    }
   },
   "cell_type": "code",
   "source": [
    "import torch\n",
    "import pandas as pd\n",
    "import torch.nn as nn\n",
    "import torch.nn.functional as F\n",
    "import transformers"
   ],
   "id": "cf0fbfa576bee531",
   "outputs": [],
   "execution_count": 10
  },
  {
   "metadata": {},
   "cell_type": "markdown",
   "source": "## Naive Tokenizer",
   "id": "cee7023554c33f2d"
  },
  {
   "metadata": {
    "ExecuteTime": {
     "end_time": "2025-06-10T13:50:06.134050Z",
     "start_time": "2025-06-10T13:50:02.679701Z"
    }
   },
   "cell_type": "code",
   "source": [
    "# Generate word counts (OPTIONAL)\n",
    "all_words = [w for w in open(\"text8.txt\").read().split(\" \") if len(w) > 0]\n",
    "\n",
    "print(\"Total word counts: {}\".format(len(all_words)))\n",
    "\n",
    "word_counts = {}\n",
    "for word in all_words:\n",
    "    if word in word_counts:\n",
    "        word_counts[word] += 1\n",
    "    else:\n",
    "        word_counts[word] = 1\n",
    "\n",
    "word_counts_df = pd.DataFrame(\n",
    "    {\n",
    "        \"word\": word_counts.keys(),\n",
    "        \"count\": word_counts.values(),\n",
    "    }\n",
    ")\n",
    "word_counts_df.sort_values(\"count\", ascending=False, inplace=True)\n",
    "\n",
    "word_counts_df.to_csv(\"word_counts.csv\", index=False)\n"
   ],
   "id": "3b187f3b0237c0e7",
   "outputs": [
    {
     "name": "stdout",
     "output_type": "stream",
     "text": [
      "Total word counts: 17005207\n"
     ]
    }
   ],
   "execution_count": 41
  },
  {
   "metadata": {
    "ExecuteTime": {
     "end_time": "2025-06-10T13:52:55.469528Z",
     "start_time": "2025-06-10T13:52:55.347617Z"
    }
   },
   "cell_type": "code",
   "source": [
    "# Generate vocab (OPTIONAL)\n",
    "word_counts_df = pd.read_csv(\"word_counts.csv\")\n",
    "\n",
    "TOP_WORDS = 45000\n",
    "UNKNOWN_TOKEN = \"[UNK]\"\n",
    "\n",
    "WORD_COUNT_THRESHOLD = 10\n",
    "other_words = word_counts_df[word_counts_df[\"count\"] < WORD_COUNT_THRESHOLD]\n",
    "unknown_count = other_words[\"count\"].sum()\n",
    "\n",
    "vocab = pd.concat([\n",
    "    word_counts_df[word_counts_df[\"count\"] >= WORD_COUNT_THRESHOLD],\n",
    "    pd.DataFrame([\n",
    "        {\n",
    "            \"word\": UNKNOWN_TOKEN,\n",
    "            \"count\": unknown_count,\n",
    "        }\n",
    "    ])\n",
    "])\n",
    "\n",
    "vocab[\"token_index\"] = range(len(vocab))\n",
    "vocab.set_index(\"word\", inplace=True)\n",
    "\n",
    "print(vocab.tail(5))\n",
    "vocab.to_csv(\"vocab.csv\")\n"
   ],
   "id": "f319b7c91077a0e9",
   "outputs": [
    {
     "name": "stdout",
     "output_type": "stream",
     "text": [
      "                count  token_index\n",
      "word                              \n",
      "thaws               5        71286\n",
      "bosonic             5        71287\n",
      "ginnungagap         5        71288\n",
      "videocassette       5        71289\n",
      "[UNK]          286363        71290\n"
     ]
    }
   ],
   "execution_count": 46
  },
  {
   "metadata": {
    "ExecuteTime": {
     "end_time": "2025-06-10T14:34:44.395218Z",
     "start_time": "2025-06-10T14:34:43.701026Z"
    }
   },
   "cell_type": "code",
   "source": [
    "# Load vocabulary\n",
    "vocab = pd.read_csv(\"vocab.csv\")\n",
    "vocab.set_index(\"word\", inplace=True)\n",
    "UNKNOWN_TOKEN = \"[UNK]\"\n",
    "UNKNOWN_INDEX = vocab.loc[UNKNOWN_TOKEN, \"token_index\"]\n",
    "\n",
    "vocab_lookup = {\n",
    "    word: row[\"token_index\"] for word, row in vocab.iterrows()\n",
    "}\n",
    "def word_to_token_index(word):\n",
    "    if word in vocab_lookup:\n",
    "        return vocab_lookup[word]\n",
    "    else:\n",
    "        return UNKNOWN_INDEX\n",
    "\n",
    "print(\"\\\"hello world\\\" is: [{}, {}]\".format(\n",
    "    word_to_token_index(\"hello\"),\n",
    "    word_to_token_index(\"world\")\n",
    "))"
   ],
   "id": "93d988651a3b79c6",
   "outputs": [
    {
     "name": "stdout",
     "output_type": "stream",
     "text": [
      "\"hello world\" is: [6425, 70]\n"
     ]
    }
   ],
   "execution_count": 76
  },
  {
   "metadata": {
    "ExecuteTime": {
     "end_time": "2025-06-10T14:35:28.390934Z",
     "start_time": "2025-06-10T14:35:19.716205Z"
    }
   },
   "cell_type": "code",
   "source": [
    "# Create subsampled text\n",
    "\n",
    "import math, random\n",
    "\n",
    "total_word_count = vocab[\"count\"].sum()\n",
    "vocab_count = {\n",
    "    word: row[\"count\"] for word, row in vocab.iterrows()\n",
    "}\n",
    "\n",
    "def probability_to_keep_word(word):\n",
    "    if word in vocab_count:\n",
    "        word_frequency = vocab_count[word] / total_word_count\n",
    "        return min(1.0, math.sqrt(0.00001 / word_frequency))\n",
    "    else:\n",
    "        return 1\n",
    "\n",
    "print(\"Probability to keep the={} wheelbarrow={}\".format(probability_to_keep_word(\"the\"), probability_to_keep_word(\"wheelbarrow\")))\n",
    "\n",
    "cleaned_words = []\n",
    "\n",
    "print(\"Total words: {}\".format(total_word_count))\n",
    "\n",
    "for i, w in enumerate(open(\"text8.txt\").read().split(\" \")):\n",
    "    if len(w) > 0 and random.random() <= probability_to_keep_word(w):\n",
    "        cleaned_words.append(w)\n",
    "\n",
    "print(\"Total words (before subsampling): {}\".format(total_word_count))\n",
    "print(\"Total words (after subsampling): {}\".format(len(cleaned_words)))\n",
    "\n",
    "has_prev_word = False\n",
    "with open(\"text8-subsampled.txt\", \"w\") as f:\n",
    "    for w in cleaned_words:\n",
    "        if has_prev_word:\n",
    "            f.write(\" \")\n",
    "        f.write(w)\n",
    "        has_prev_word = True\n"
   ],
   "id": "b0e31f83f8e2ee90",
   "outputs": [
    {
     "name": "stdout",
     "output_type": "stream",
     "text": [
      "Probability to keep the=0.012657625384224533 wheelbarrow=1.0\n",
      "Total words: 17005207\n",
      "Total words (before cleaning): 17005207\n",
      "Total words (after cleaning): 4978951\n"
     ]
    }
   ],
   "execution_count": 78
  },
  {
   "metadata": {},
   "cell_type": "code",
   "outputs": [],
   "execution_count": null,
   "source": [
    "# PyTorch Model\n",
    "\n",
    "subsampled_words = [w for w in open(\"text8-subsampled.txt\").read().split(\" \") if len(w) > 0]\n",
    "\n",
    "# => Create a DataLoader for training samples\n",
    "# => Define a model\n",
    "# => Training loop\n",
    "# => Saving/loading the parameters"
   ],
   "id": "657ee325e63190cb"
  }
 ],
 "metadata": {
  "kernelspec": {
   "display_name": "Python 3",
   "language": "python",
   "name": "python3"
  },
  "language_info": {
   "codemirror_mode": {
    "name": "ipython",
    "version": 2
   },
   "file_extension": ".py",
   "mimetype": "text/x-python",
   "name": "python",
   "nbconvert_exporter": "python",
   "pygments_lexer": "ipython2",
   "version": "2.7.6"
  }
 },
 "nbformat": 4,
 "nbformat_minor": 5
}
