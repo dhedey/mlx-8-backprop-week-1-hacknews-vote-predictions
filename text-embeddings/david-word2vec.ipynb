{
 "cells": [
  {
   "metadata": {},
   "cell_type": "markdown",
   "source": "## Model\n",
   "id": "46c313da051ff945"
  },
  {
   "metadata": {
    "ExecuteTime": {
     "end_time": "2025-06-10T13:17:53.311105Z",
     "start_time": "2025-06-10T13:17:50.614932Z"
    }
   },
   "cell_type": "code",
   "source": [
    "import torch\n",
    "import pandas as pd\n",
    "import torch.nn as nn\n",
    "import torch.nn.functional as F\n",
    "import transformers"
   ],
   "id": "cf0fbfa576bee531",
   "outputs": [],
   "execution_count": 10
  },
  {
   "metadata": {},
   "cell_type": "markdown",
   "source": "## Naive Tokenizer",
   "id": "cee7023554c33f2d"
  },
  {
   "metadata": {
    "ExecuteTime": {
     "end_time": "2025-06-10T13:50:06.134050Z",
     "start_time": "2025-06-10T13:50:02.679701Z"
    }
   },
   "cell_type": "code",
   "source": [
    "# Generate word counts (OPTIONAL)\n",
    "all_words = [w for w in open(\"text8.txt\").read().split(\" \") if len(w) > 0]\n",
    "\n",
    "print(\"Total word counts: {}\".format(len(all_words)))\n",
    "\n",
    "word_counts = {}\n",
    "for word in all_words:\n",
    "    if word in word_counts:\n",
    "        word_counts[word] += 1\n",
    "    else:\n",
    "        word_counts[word] = 1\n",
    "\n",
    "word_counts_df = pd.DataFrame(\n",
    "    {\n",
    "        \"word\": word_counts.keys(),\n",
    "        \"count\": word_counts.values(),\n",
    "    }\n",
    ")\n",
    "word_counts_df.sort_values(\"count\", ascending=False, inplace=True)\n",
    "\n",
    "word_counts_df.to_csv(\"word_counts.csv\", index=False)\n"
   ],
   "id": "3b187f3b0237c0e7",
   "outputs": [
    {
     "name": "stdout",
     "output_type": "stream",
     "text": [
      "Total word counts: 17005207\n"
     ]
    }
   ],
   "execution_count": 41
  },
  {
   "metadata": {
    "ExecuteTime": {
     "end_time": "2025-06-10T13:52:55.469528Z",
     "start_time": "2025-06-10T13:52:55.347617Z"
    }
   },
   "cell_type": "code",
   "source": [
    "# Generate vocab (OPTIONAL)\n",
    "word_counts_df = pd.read_csv(\"word_counts.csv\")\n",
    "\n",
    "TOP_WORDS = 45000\n",
    "UNKNOWN_TOKEN = \"[UNK]\"\n",
    "\n",
    "WORD_COUNT_THRESHOLD = 10\n",
    "other_words = word_counts_df[word_counts_df[\"count\"] < WORD_COUNT_THRESHOLD]\n",
    "unknown_count = other_words[\"count\"].sum()\n",
    "\n",
    "vocab = pd.concat([\n",
    "    word_counts_df[word_counts_df[\"count\"] >= WORD_COUNT_THRESHOLD],\n",
    "    pd.DataFrame([\n",
    "        {\n",
    "            \"word\": UNKNOWN_TOKEN,\n",
    "            \"count\": unknown_count,\n",
    "        }\n",
    "    ])\n",
    "])\n",
    "\n",
    "vocab[\"token_index\"] = range(len(vocab))\n",
    "vocab.set_index(\"word\", inplace=True)\n",
    "\n",
    "print(vocab.tail(5))\n",
    "vocab.to_csv(\"vocab.csv\")\n"
   ],
   "id": "f319b7c91077a0e9",
   "outputs": [
    {
     "name": "stdout",
     "output_type": "stream",
     "text": [
      "                count  token_index\n",
      "word                              \n",
      "thaws               5        71286\n",
      "bosonic             5        71287\n",
      "ginnungagap         5        71288\n",
      "videocassette       5        71289\n",
      "[UNK]          286363        71290\n"
     ]
    }
   ],
   "execution_count": 46
  },
  {
   "metadata": {
    "ExecuteTime": {
     "end_time": "2025-06-10T14:34:44.395218Z",
     "start_time": "2025-06-10T14:34:43.701026Z"
    }
   },
   "cell_type": "code",
   "source": [
    "# Load vocabulary\n",
    "vocab = pd.read_csv(\"vocab.csv\")\n",
    "vocab.set_index(\"word\", inplace=True)\n",
    "UNKNOWN_TOKEN = \"[UNK]\"\n",
    "UNKNOWN_INDEX = vocab.loc[UNKNOWN_TOKEN, \"token_index\"]\n",
    "\n",
    "vocab_lookup = {\n",
    "    word: row[\"token_index\"] for word, row in vocab.iterrows()\n",
    "}\n",
    "def word_to_token_index(word):\n",
    "    if word in vocab_lookup:\n",
    "        return vocab_lookup[word]\n",
    "    else:\n",
    "        return UNKNOWN_INDEX\n",
    "\n",
    "print(\"\\\"hello world\\\" is: [{}, {}]\".format(\n",
    "    word_to_token_index(\"hello\"),\n",
    "    word_to_token_index(\"world\")\n",
    "))"
   ],
   "id": "93d988651a3b79c6",
   "outputs": [
    {
     "name": "stdout",
     "output_type": "stream",
     "text": [
      "\"hello world\" is: [6425, 70]\n"
     ]
    }
   ],
   "execution_count": 76
  },
  {
   "metadata": {
    "ExecuteTime": {
     "end_time": "2025-06-10T14:35:28.390934Z",
     "start_time": "2025-06-10T14:35:19.716205Z"
    }
   },
   "cell_type": "code",
   "source": [
    "# Create subsampled text\n",
    "\n",
    "import math, random\n",
    "\n",
    "total_word_count = vocab[\"count\"].sum()\n",
    "vocab_count = {\n",
    "    word: row[\"count\"] for word, row in vocab.iterrows()\n",
    "}\n",
    "\n",
    "def probability_to_keep_word(word):\n",
    "    if word in vocab_count:\n",
    "        word_frequency = vocab_count[word] / total_word_count\n",
    "        return min(1.0, math.sqrt(0.00001 / word_frequency))\n",
    "    else:\n",
    "        return 1\n",
    "\n",
    "print(\"Probability to keep the={} wheelbarrow={}\".format(probability_to_keep_word(\"the\"), probability_to_keep_word(\"wheelbarrow\")))\n",
    "\n",
    "cleaned_words = []\n",
    "\n",
    "print(\"Total words: {}\".format(total_word_count))\n",
    "\n",
    "for i, w in enumerate(open(\"text8.txt\").read().split(\" \")):\n",
    "    if len(w) > 0 and random.random() <= probability_to_keep_word(w):\n",
    "        cleaned_words.append(w)\n",
    "\n",
    "print(\"Total words (before subsampling): {}\".format(total_word_count))\n",
    "print(\"Total words (after subsampling): {}\".format(len(cleaned_words)))\n",
    "\n",
    "has_prev_word = False\n",
    "with open(\"text8-subsampled.txt\", \"w\") as f:\n",
    "    for w in cleaned_words:\n",
    "        if has_prev_word:\n",
    "            f.write(\" \")\n",
    "        f.write(w)\n",
    "        has_prev_word = True\n"
   ],
   "id": "b0e31f83f8e2ee90",
   "outputs": [
    {
     "name": "stdout",
     "output_type": "stream",
     "text": [
      "Probability to keep the=0.012657625384224533 wheelbarrow=1.0\n",
      "Total words: 17005207\n",
      "Total words (before cleaning): 17005207\n",
      "Total words (after cleaning): 4978951\n"
     ]
    }
   ],
   "execution_count": 78
  },
  {
   "metadata": {
    "jupyter": {
     "is_executing": true
    },
    "ExecuteTime": {
     "start_time": "2025-06-10T15:43:47.078924Z"
    }
   },
   "cell_type": "code",
   "source": [
    "# PyTorch Model\n",
    "from torch.utils.data import StackDataset, TensorDataset, DataLoader\n",
    "\n",
    "subsampled_words = [w for w in open(\"text8-subsampled.txt\").read().split(\" \") if len(w) > 0]\n",
    "\n",
    "TAKE_WORDS_BEFORE = 2\n",
    "TAKE_WORDS_AFTER = 2\n",
    "MAX_OFFSET = len(subsampled_words) - 1 - TAKE_WORDS_AFTER\n",
    "\n",
    "def to_tokens(words):\n",
    "    return [word_to_token_index(word) for word in words]\n",
    "\n",
    "def generate_data_set(token_source: list[int], token_count_before: int, token_count_after: int):\n",
    "    min_offset = token_count_before\n",
    "    max_offset = len(token_source) - 1 - token_count_after\n",
    "\n",
    "    bags = torch.zeros(max_offset - min_offset, token_count_before + token_count_after, dtype=torch.long)\n",
    "    targets = []\n",
    "\n",
    "    ## TODO >> PICK UP FROM HERE\n",
    "    ## I'm tweaking the below to create the tensor directly for efficiency\n",
    "    for target_offset in range(min_offset, max_offset):\n",
    "        target_token = token_source[target_offset]\n",
    "        token_bag = []\n",
    "        before_offset = target_offset - token_count_before\n",
    "        for i in range(token_count_before):\n",
    "            token_bag.append(token_source[before_offset + i])\n",
    "        after_offset = target_offset + 1\n",
    "        for i in range(token_count_after):\n",
    "            token_bag.append(token_source[after_offset + i])\n",
    "\n",
    "        bags.append(torch.tensor(token_bag))\n",
    "        targets.append(torch.tensor(target_token))\n",
    "\n",
    "    return StackDataset(\n",
    "        bags=TensorDataset(torch.tensor(bags)),\n",
    "        targets=TensorDataset(torch.tensor(targets))\n",
    "    )\n",
    "\n",
    "\n",
    "# class TokenBagDatasetGenerator(IterableDataset):\n",
    "#     def __init__(self, token_source: list[int], token_count_before: int, token_count_after: int) -> None:\n",
    "#         super().__init__()\n",
    "#         self.token_source = token_source\n",
    "#         self.token_count_before = token_count_before\n",
    "#         self.token_count_after = token_count_after\n",
    "#         self.min_offset = token_count_before\n",
    "#         self.max_offset = len(token_source) - 1 - token_count_after\n",
    "#\n",
    "#     def generate(self):\n",
    "#         for target_offset in range(self.min_offset, self.max_offset):\n",
    "#             target_offset = random.randint(self.min_offset, self.max_offset)\n",
    "#             target_token = self.token_source[target_offset]\n",
    "#             token_bag = []\n",
    "#             before_offset = target_offset - self.token_count_before\n",
    "#             for i in range(self.token_count_before):\n",
    "#                 token_bag.append(self.token_source[before_offset + i])\n",
    "#             after_offset = target_offset + 1\n",
    "#             for i in range(self.token_count_after):\n",
    "#                 token_bag.append(self.token_source[after_offset + i])\n",
    "#\n",
    "#             yield {\n",
    "#                 \"bag\": torch.tensor(token_bag),\n",
    "#                 \"target\": target_token,\n",
    "#             }\n",
    "#\n",
    "#     def __iter__(self):\n",
    "#         return iter(self.generate())\n",
    "\n",
    "# test_loader = TokenBagLoader(\n",
    "#     token_source=to_tokens(\"the quick brown fox jumps over the lazy dog\".split(\" \")),\n",
    "#     token_count_before=2,\n",
    "#     token_count_after=1,\n",
    "# )\n",
    "# test_loader_iter = test_loader.__iter__()\n",
    "# print(test_loader_iter.__next__())\n",
    "# print(test_loader_iter.__next__())\n",
    "\n",
    "\n",
    "training_count = int(len(subsampled_words) * 0.8)\n",
    "training_words = subsampled_words[:training_count]\n",
    "\n",
    "train_data_set = generate_data_set(\n",
    "    token_source=to_tokens(training_words),\n",
    "    token_count_before=2,\n",
    "    token_count_after=2,\n",
    ")\n",
    "train_loader = DataLoader(train_data_set, batch_size=64, shuffle=True)\n",
    "\n",
    "# => Create a DataLoader for training samples\n",
    "# => Define a model\n",
    "# => Training loop\n",
    "# => Saving/loading the parameters\n"
   ],
   "id": "657ee325e63190cb",
   "outputs": [],
   "execution_count": null
  },
  {
   "metadata": {
    "ExecuteTime": {
     "end_time": "2025-06-10T15:42:34.797337Z",
     "start_time": "2025-06-10T15:42:34.499089Z"
    }
   },
   "cell_type": "code",
   "source": [
    "import torch.optim as optim\n",
    "\n",
    "class Word2VecNetwork(nn.Module):\n",
    "    def __init__(self, vocab_size, embedding_dim):\n",
    "        super().__init__()\n",
    "        self.embedding = nn.Embedding(\n",
    "            num_embeddings=vocab_size,\n",
    "            embedding_dim=embedding_dim,\n",
    "        )\n",
    "        self.prediction = nn.Linear(embedding_dim, vocab_size)\n",
    "\n",
    "    def forward(self, x):\n",
    "        # Input dimensions: (batch, bag_item) => TokenIndex\n",
    "        embeddings = self.embedding(x) # Dimensions: (batch, bag_item, embedding) => FeatureWeight\n",
    "        average_embedding = torch.mean(embeddings, dim=0) # Dimensions: (batch, embedding) => FeatureWeight\n",
    "        return self.prediction(average_embedding) # Dimensions: (batch, vocab_size) => Logit\n",
    "\n",
    "BEFORE_WORDS = 2\n",
    "AFTER_WORDS = 2\n",
    "BAG_SIZE = BEFORE_WORDS + AFTER_WORDS\n",
    "EMBEDDING_DIM = 300\n",
    "VOCAB_SIZE = len(vocab_lookup)\n",
    "\n",
    "net = Word2VecNetwork(\n",
    "    vocab_size=VOCAB_SIZE,\n",
    "    embedding_dim=EMBEDDING_DIM,\n",
    ")\n",
    "\n",
    "criterion = nn.CrossEntropyLoss()\n",
    "optimizer = optim.SGD(net.parameters(), lr=0.001, momentum=0.9)"
   ],
   "id": "55057af5965dd117",
   "outputs": [],
   "execution_count": 108
  },
  {
   "metadata": {
    "ExecuteTime": {
     "end_time": "2025-06-10T15:42:56.172386Z",
     "start_time": "2025-06-10T15:42:55.981740Z"
    }
   },
   "cell_type": "code",
   "source": [
    "for epoch in range(50):  # loop over the dataset multiple times\n",
    "    running_loss = 0.0\n",
    "    for i, data in enumerate(train_loader):\n",
    "        # zero the parameter gradients\n",
    "        optimizer.zero_grad()\n",
    "\n",
    "        # forward + backward + optimize\n",
    "        outputs = net(data[\"bags\"])\n",
    "        loss = criterion(outputs, data[\"targets\"])\n",
    "        loss.backward()\n",
    "        optimizer.step()\n",
    "\n",
    "        # print statistics\n",
    "        running_loss += loss.item()\n",
    "        if i % 1000 == 999:    # print every 1000 mini-batches\n",
    "            print(f'[{epoch + 1}, {i + 1:5d}] loss: {running_loss / 2000:.3f}')\n",
    "            running_loss = 0.0\n",
    "\n",
    "print('Finished Training')"
   ],
   "id": "cc3062afed0caf4f",
   "outputs": [
    {
     "ename": "TypeError",
     "evalue": "embedding(): argument 'indices' (position 2) must be Tensor, not list",
     "output_type": "error",
     "traceback": [
      "\u001B[31m---------------------------------------------------------------------------\u001B[39m",
      "\u001B[31mTypeError\u001B[39m                                 Traceback (most recent call last)",
      "\u001B[36mCell\u001B[39m\u001B[36m \u001B[39m\u001B[32mIn[110]\u001B[39m\u001B[32m, line 8\u001B[39m\n\u001B[32m      5\u001B[39m optimizer.zero_grad()\n\u001B[32m      7\u001B[39m \u001B[38;5;66;03m# forward + backward + optimize\u001B[39;00m\n\u001B[32m----> \u001B[39m\u001B[32m8\u001B[39m outputs = \u001B[43mnet\u001B[49m\u001B[43m(\u001B[49m\u001B[43mdata\u001B[49m\u001B[43m[\u001B[49m\u001B[33;43m\"\u001B[39;49m\u001B[33;43mbags\u001B[39;49m\u001B[33;43m\"\u001B[39;49m\u001B[43m]\u001B[49m\u001B[43m)\u001B[49m\n\u001B[32m      9\u001B[39m loss = criterion(outputs, data[\u001B[33m\"\u001B[39m\u001B[33mtargets\u001B[39m\u001B[33m\"\u001B[39m])\n\u001B[32m     10\u001B[39m loss.backward()\n",
      "\u001B[36mFile \u001B[39m\u001B[32m~/NotWork/mlx-8-backprop-week-1-hacknews-vote-predictions/.venv/lib/python3.12/site-packages/torch/nn/modules/module.py:1751\u001B[39m, in \u001B[36mModule._wrapped_call_impl\u001B[39m\u001B[34m(self, *args, **kwargs)\u001B[39m\n\u001B[32m   1749\u001B[39m     \u001B[38;5;28;01mreturn\u001B[39;00m \u001B[38;5;28mself\u001B[39m._compiled_call_impl(*args, **kwargs)  \u001B[38;5;66;03m# type: ignore[misc]\u001B[39;00m\n\u001B[32m   1750\u001B[39m \u001B[38;5;28;01melse\u001B[39;00m:\n\u001B[32m-> \u001B[39m\u001B[32m1751\u001B[39m     \u001B[38;5;28;01mreturn\u001B[39;00m \u001B[38;5;28;43mself\u001B[39;49m\u001B[43m.\u001B[49m\u001B[43m_call_impl\u001B[49m\u001B[43m(\u001B[49m\u001B[43m*\u001B[49m\u001B[43margs\u001B[49m\u001B[43m,\u001B[49m\u001B[43m \u001B[49m\u001B[43m*\u001B[49m\u001B[43m*\u001B[49m\u001B[43mkwargs\u001B[49m\u001B[43m)\u001B[49m\n",
      "\u001B[36mFile \u001B[39m\u001B[32m~/NotWork/mlx-8-backprop-week-1-hacknews-vote-predictions/.venv/lib/python3.12/site-packages/torch/nn/modules/module.py:1762\u001B[39m, in \u001B[36mModule._call_impl\u001B[39m\u001B[34m(self, *args, **kwargs)\u001B[39m\n\u001B[32m   1757\u001B[39m \u001B[38;5;66;03m# If we don't have any hooks, we want to skip the rest of the logic in\u001B[39;00m\n\u001B[32m   1758\u001B[39m \u001B[38;5;66;03m# this function, and just call forward.\u001B[39;00m\n\u001B[32m   1759\u001B[39m \u001B[38;5;28;01mif\u001B[39;00m \u001B[38;5;129;01mnot\u001B[39;00m (\u001B[38;5;28mself\u001B[39m._backward_hooks \u001B[38;5;129;01mor\u001B[39;00m \u001B[38;5;28mself\u001B[39m._backward_pre_hooks \u001B[38;5;129;01mor\u001B[39;00m \u001B[38;5;28mself\u001B[39m._forward_hooks \u001B[38;5;129;01mor\u001B[39;00m \u001B[38;5;28mself\u001B[39m._forward_pre_hooks\n\u001B[32m   1760\u001B[39m         \u001B[38;5;129;01mor\u001B[39;00m _global_backward_pre_hooks \u001B[38;5;129;01mor\u001B[39;00m _global_backward_hooks\n\u001B[32m   1761\u001B[39m         \u001B[38;5;129;01mor\u001B[39;00m _global_forward_hooks \u001B[38;5;129;01mor\u001B[39;00m _global_forward_pre_hooks):\n\u001B[32m-> \u001B[39m\u001B[32m1762\u001B[39m     \u001B[38;5;28;01mreturn\u001B[39;00m \u001B[43mforward_call\u001B[49m\u001B[43m(\u001B[49m\u001B[43m*\u001B[49m\u001B[43margs\u001B[49m\u001B[43m,\u001B[49m\u001B[43m \u001B[49m\u001B[43m*\u001B[49m\u001B[43m*\u001B[49m\u001B[43mkwargs\u001B[49m\u001B[43m)\u001B[49m\n\u001B[32m   1764\u001B[39m result = \u001B[38;5;28;01mNone\u001B[39;00m\n\u001B[32m   1765\u001B[39m called_always_called_hooks = \u001B[38;5;28mset\u001B[39m()\n",
      "\u001B[36mCell\u001B[39m\u001B[36m \u001B[39m\u001B[32mIn[108]\u001B[39m\u001B[32m, line 14\u001B[39m, in \u001B[36mWord2VecNetwork.forward\u001B[39m\u001B[34m(self, x)\u001B[39m\n\u001B[32m     12\u001B[39m \u001B[38;5;28;01mdef\u001B[39;00m\u001B[38;5;250m \u001B[39m\u001B[34mforward\u001B[39m(\u001B[38;5;28mself\u001B[39m, x):\n\u001B[32m     13\u001B[39m     \u001B[38;5;66;03m# Input dimensions: (batch, bag_item) => TokenIndex\u001B[39;00m\n\u001B[32m---> \u001B[39m\u001B[32m14\u001B[39m     embeddings = \u001B[38;5;28;43mself\u001B[39;49m\u001B[43m.\u001B[49m\u001B[43membedding\u001B[49m\u001B[43m(\u001B[49m\u001B[43mx\u001B[49m\u001B[43m)\u001B[49m \u001B[38;5;66;03m# Dimensions: (batch, bag_item, embedding) => FeatureWeight\u001B[39;00m\n\u001B[32m     15\u001B[39m     average_embedding = torch.mean(embeddings, dim=\u001B[32m0\u001B[39m) \u001B[38;5;66;03m# Dimensions: (batch, embedding) => FeatureWeight\u001B[39;00m\n\u001B[32m     16\u001B[39m     \u001B[38;5;28;01mreturn\u001B[39;00m \u001B[38;5;28mself\u001B[39m.prediction(average_embedding)\n",
      "\u001B[36mFile \u001B[39m\u001B[32m~/NotWork/mlx-8-backprop-week-1-hacknews-vote-predictions/.venv/lib/python3.12/site-packages/torch/nn/modules/module.py:1751\u001B[39m, in \u001B[36mModule._wrapped_call_impl\u001B[39m\u001B[34m(self, *args, **kwargs)\u001B[39m\n\u001B[32m   1749\u001B[39m     \u001B[38;5;28;01mreturn\u001B[39;00m \u001B[38;5;28mself\u001B[39m._compiled_call_impl(*args, **kwargs)  \u001B[38;5;66;03m# type: ignore[misc]\u001B[39;00m\n\u001B[32m   1750\u001B[39m \u001B[38;5;28;01melse\u001B[39;00m:\n\u001B[32m-> \u001B[39m\u001B[32m1751\u001B[39m     \u001B[38;5;28;01mreturn\u001B[39;00m \u001B[38;5;28;43mself\u001B[39;49m\u001B[43m.\u001B[49m\u001B[43m_call_impl\u001B[49m\u001B[43m(\u001B[49m\u001B[43m*\u001B[49m\u001B[43margs\u001B[49m\u001B[43m,\u001B[49m\u001B[43m \u001B[49m\u001B[43m*\u001B[49m\u001B[43m*\u001B[49m\u001B[43mkwargs\u001B[49m\u001B[43m)\u001B[49m\n",
      "\u001B[36mFile \u001B[39m\u001B[32m~/NotWork/mlx-8-backprop-week-1-hacknews-vote-predictions/.venv/lib/python3.12/site-packages/torch/nn/modules/module.py:1762\u001B[39m, in \u001B[36mModule._call_impl\u001B[39m\u001B[34m(self, *args, **kwargs)\u001B[39m\n\u001B[32m   1757\u001B[39m \u001B[38;5;66;03m# If we don't have any hooks, we want to skip the rest of the logic in\u001B[39;00m\n\u001B[32m   1758\u001B[39m \u001B[38;5;66;03m# this function, and just call forward.\u001B[39;00m\n\u001B[32m   1759\u001B[39m \u001B[38;5;28;01mif\u001B[39;00m \u001B[38;5;129;01mnot\u001B[39;00m (\u001B[38;5;28mself\u001B[39m._backward_hooks \u001B[38;5;129;01mor\u001B[39;00m \u001B[38;5;28mself\u001B[39m._backward_pre_hooks \u001B[38;5;129;01mor\u001B[39;00m \u001B[38;5;28mself\u001B[39m._forward_hooks \u001B[38;5;129;01mor\u001B[39;00m \u001B[38;5;28mself\u001B[39m._forward_pre_hooks\n\u001B[32m   1760\u001B[39m         \u001B[38;5;129;01mor\u001B[39;00m _global_backward_pre_hooks \u001B[38;5;129;01mor\u001B[39;00m _global_backward_hooks\n\u001B[32m   1761\u001B[39m         \u001B[38;5;129;01mor\u001B[39;00m _global_forward_hooks \u001B[38;5;129;01mor\u001B[39;00m _global_forward_pre_hooks):\n\u001B[32m-> \u001B[39m\u001B[32m1762\u001B[39m     \u001B[38;5;28;01mreturn\u001B[39;00m \u001B[43mforward_call\u001B[49m\u001B[43m(\u001B[49m\u001B[43m*\u001B[49m\u001B[43margs\u001B[49m\u001B[43m,\u001B[49m\u001B[43m \u001B[49m\u001B[43m*\u001B[49m\u001B[43m*\u001B[49m\u001B[43mkwargs\u001B[49m\u001B[43m)\u001B[49m\n\u001B[32m   1764\u001B[39m result = \u001B[38;5;28;01mNone\u001B[39;00m\n\u001B[32m   1765\u001B[39m called_always_called_hooks = \u001B[38;5;28mset\u001B[39m()\n",
      "\u001B[36mFile \u001B[39m\u001B[32m~/NotWork/mlx-8-backprop-week-1-hacknews-vote-predictions/.venv/lib/python3.12/site-packages/torch/nn/modules/sparse.py:190\u001B[39m, in \u001B[36mEmbedding.forward\u001B[39m\u001B[34m(self, input)\u001B[39m\n\u001B[32m    189\u001B[39m \u001B[38;5;28;01mdef\u001B[39;00m\u001B[38;5;250m \u001B[39m\u001B[34mforward\u001B[39m(\u001B[38;5;28mself\u001B[39m, \u001B[38;5;28minput\u001B[39m: Tensor) -> Tensor:\n\u001B[32m--> \u001B[39m\u001B[32m190\u001B[39m     \u001B[38;5;28;01mreturn\u001B[39;00m \u001B[43mF\u001B[49m\u001B[43m.\u001B[49m\u001B[43membedding\u001B[49m\u001B[43m(\u001B[49m\n\u001B[32m    191\u001B[39m \u001B[43m        \u001B[49m\u001B[38;5;28;43minput\u001B[39;49m\u001B[43m,\u001B[49m\n\u001B[32m    192\u001B[39m \u001B[43m        \u001B[49m\u001B[38;5;28;43mself\u001B[39;49m\u001B[43m.\u001B[49m\u001B[43mweight\u001B[49m\u001B[43m,\u001B[49m\n\u001B[32m    193\u001B[39m \u001B[43m        \u001B[49m\u001B[38;5;28;43mself\u001B[39;49m\u001B[43m.\u001B[49m\u001B[43mpadding_idx\u001B[49m\u001B[43m,\u001B[49m\n\u001B[32m    194\u001B[39m \u001B[43m        \u001B[49m\u001B[38;5;28;43mself\u001B[39;49m\u001B[43m.\u001B[49m\u001B[43mmax_norm\u001B[49m\u001B[43m,\u001B[49m\n\u001B[32m    195\u001B[39m \u001B[43m        \u001B[49m\u001B[38;5;28;43mself\u001B[39;49m\u001B[43m.\u001B[49m\u001B[43mnorm_type\u001B[49m\u001B[43m,\u001B[49m\n\u001B[32m    196\u001B[39m \u001B[43m        \u001B[49m\u001B[38;5;28;43mself\u001B[39;49m\u001B[43m.\u001B[49m\u001B[43mscale_grad_by_freq\u001B[49m\u001B[43m,\u001B[49m\n\u001B[32m    197\u001B[39m \u001B[43m        \u001B[49m\u001B[38;5;28;43mself\u001B[39;49m\u001B[43m.\u001B[49m\u001B[43msparse\u001B[49m\u001B[43m,\u001B[49m\n\u001B[32m    198\u001B[39m \u001B[43m    \u001B[49m\u001B[43m)\u001B[49m\n",
      "\u001B[36mFile \u001B[39m\u001B[32m~/NotWork/mlx-8-backprop-week-1-hacknews-vote-predictions/.venv/lib/python3.12/site-packages/torch/nn/functional.py:2551\u001B[39m, in \u001B[36membedding\u001B[39m\u001B[34m(input, weight, padding_idx, max_norm, norm_type, scale_grad_by_freq, sparse)\u001B[39m\n\u001B[32m   2545\u001B[39m     \u001B[38;5;66;03m# Note [embedding_renorm set_grad_enabled]\u001B[39;00m\n\u001B[32m   2546\u001B[39m     \u001B[38;5;66;03m# XXX: equivalent to\u001B[39;00m\n\u001B[32m   2547\u001B[39m     \u001B[38;5;66;03m# with torch.no_grad():\u001B[39;00m\n\u001B[32m   2548\u001B[39m     \u001B[38;5;66;03m#   torch.embedding_renorm_\u001B[39;00m\n\u001B[32m   2549\u001B[39m     \u001B[38;5;66;03m# remove once script supports set_grad_enabled\u001B[39;00m\n\u001B[32m   2550\u001B[39m     _no_grad_embedding_renorm_(weight, \u001B[38;5;28minput\u001B[39m, max_norm, norm_type)\n\u001B[32m-> \u001B[39m\u001B[32m2551\u001B[39m \u001B[38;5;28;01mreturn\u001B[39;00m \u001B[43mtorch\u001B[49m\u001B[43m.\u001B[49m\u001B[43membedding\u001B[49m\u001B[43m(\u001B[49m\u001B[43mweight\u001B[49m\u001B[43m,\u001B[49m\u001B[43m \u001B[49m\u001B[38;5;28;43minput\u001B[39;49m\u001B[43m,\u001B[49m\u001B[43m \u001B[49m\u001B[43mpadding_idx\u001B[49m\u001B[43m,\u001B[49m\u001B[43m \u001B[49m\u001B[43mscale_grad_by_freq\u001B[49m\u001B[43m,\u001B[49m\u001B[43m \u001B[49m\u001B[43msparse\u001B[49m\u001B[43m)\u001B[49m\n",
      "\u001B[31mTypeError\u001B[39m: embedding(): argument 'indices' (position 2) must be Tensor, not list"
     ]
    }
   ],
   "execution_count": 110
  }
 ],
 "metadata": {
  "kernelspec": {
   "display_name": "Python 3",
   "language": "python",
   "name": "python3"
  },
  "language_info": {
   "codemirror_mode": {
    "name": "ipython",
    "version": 2
   },
   "file_extension": ".py",
   "mimetype": "text/x-python",
   "name": "python",
   "nbconvert_exporter": "python",
   "pygments_lexer": "ipython2",
   "version": "2.7.6"
  }
 },
 "nbformat": 4,
 "nbformat_minor": 5
}
